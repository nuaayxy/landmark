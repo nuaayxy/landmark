{
 "cells": [
  {
   "cell_type": "markdown",
   "id": "662ba368",
   "metadata": {},
   "source": [
    "# Convolutional Neural Networks\n",
    "\n",
    "## Project: Write an Algorithm for Landmark Classification\n",
    "\n",
    "### A simple app\n",
    "\n",
    "In this notebook we build a very simple app that uses our exported model.\n",
    "\n",
    "> <img src=\"static_images/icons/noun-info-2558213.png\" alt=\"?\" style=\"width:25px\"/> Note how we are not importing anything from our source code (we do not use any module from the ``src`` directory). This is because the exported model, differently from the model weights, is a standalone serialization of our model and therefore it does not need anything else. You can ship that file to anybody, and as long as they can import ``torch``, they will be able to use your model. This is very important for releasing pytorch models to production.\n",
    "\n",
    "### Test your app\n",
    "Go to a search engine for images (like Google Images) and search for images of some of the landmarks, like the Eiffel Tower, the Golden Gate Bridge, Machu Picchu and so on. Save a few examples locally, then upload them to your app to see how your model behaves!\n",
    "\n",
    "The app will show the top 5 classes that the model think are most relevant for the picture you have uploaded"
   ]
  },
  {
   "cell_type": "code",
   "execution_count": 4,
   "id": "bda5a833",
   "metadata": {},
   "outputs": [
    {
     "data": {
      "application/vnd.jupyter.widget-view+json": {
       "model_id": "f96375c315d54153b1f16b903467dc74",
       "version_major": 2,
       "version_minor": 0
      },
      "text/plain": [
       "VBox(children=(Label(value='Please upload a picture of a landmark'), FileUpload(value={}, description='Upload'…"
      ]
     },
     "metadata": {},
     "output_type": "display_data"
    }
   ],
   "source": [
    "from ipywidgets import VBox, Button, FileUpload, Output, Label\n",
    "from PIL import Image\n",
    "from IPython.display import display\n",
    "import io\n",
    "import numpy as np\n",
    "import torchvision\n",
    "import torchvision.transforms as T\n",
    "import torch\n",
    "\n",
    "# Decide which model you want to use among the ones exported\n",
    "learn_inf = torch.jit.load(\"checkpoints/transfer_exported.pt\")# YOUR CODE HERE)\n",
    "\n",
    "def on_click_classify(change):\n",
    "\n",
    "    # Load image that has been uploaded\n",
    "    fn = io.BytesIO(btn_upload.data[-1])\n",
    "\n",
    "    img = Image.open(fn)\n",
    "    img.load()\n",
    "\n",
    "    # Let's clear the previous output (if any)\n",
    "    out_pl.clear_output()\n",
    "\n",
    "    # Display the image\n",
    "    with out_pl:\n",
    "\n",
    "        ratio = img.size[0] / img.size[1]\n",
    "        c = img.copy()\n",
    "        c.thumbnail([ratio * 200, 200])\n",
    "        display(c)\n",
    "\n",
    "    # Transform to tensor\n",
    "    timg = T.ToTensor()(img).unsqueeze_(0)\n",
    "\n",
    "    # Calling the model\n",
    "    softmax = learn_inf(timg).data.cpu().numpy().squeeze()\n",
    "    \n",
    "    # Get the indexes of the classes ordered by softmax\n",
    "    # (larger first)\n",
    "    idxs = np.argsort(softmax)[::-1]\n",
    "    \n",
    "    # Loop over the classes with the largest softmax\n",
    "    for i in range(5):\n",
    "        # Get softmax value\n",
    "        p = softmax[idxs[i]]\n",
    "    \n",
    "        # Get class name\n",
    "        landmark_name = learn_inf.class_names[idxs[i]]\n",
    "        \n",
    "        labels[i].value = f\"{landmark_name} (prob: {p:.2f})\"\n",
    "\n",
    "\n",
    "# Putting back btn_upload to a widget for next cell\n",
    "btn_upload = FileUpload()\n",
    "\n",
    "btn_run = Button(description=\"Classify\")\n",
    "btn_run.on_click(on_click_classify)\n",
    "\n",
    "labels = []\n",
    "for _ in range(5):\n",
    "    labels.append(Label())\n",
    "\n",
    "out_pl = Output()\n",
    "out_pl.clear_output()\n",
    "\n",
    "wgs = [Label(\"Please upload a picture of a landmark\"), btn_upload, btn_run, out_pl]\n",
    "wgs.extend(labels)\n",
    "\n",
    "VBox(wgs)"
   ]
  },
  {
   "cell_type": "markdown",
   "id": "267f9867",
   "metadata": {},
   "source": [
    "## (optional) Standalone app or web app\n",
    "\n",
    "You can run this notebook as a standalone app on your computer by following these steps:\n",
    "\n",
    "1. Download this notebook in a directory on your machine\n",
    "2. Download the model export (for example, ``checkpoints/transfer_exported.pt``) in a subdirectory called ``checkpoints`` within the directory where you save the app.ipynb notebook\n",
    "3. Install voila if you don't have it already (``pip install voila``)\n",
    "4. Run your app: ``voila app.ipynb --show_tracebacks=True``\n",
    "5. Customize your notebook to make your app prettier and rerun voila\n",
    "\n",
    "You can also deploy this app as a website using Binder: https://voila.readthedocs.io/en/stable/deploy.html#deployment-on-binder"
   ]
  },
  {
   "cell_type": "markdown",
   "id": "3f87207e",
   "metadata": {},
   "source": [
    "# Create your submission archive\n",
    "\n",
    "Now that you are done with your project, please run the following cell. It will generate a file containing all the code you have written, as well as the notebooks. Please submit that file to complete your project"
   ]
  },
  {
   "cell_type": "code",
   "execution_count": 5,
   "id": "5cbba984",
   "metadata": {},
   "outputs": [
    {
     "name": "stdout",
     "output_type": "stream",
     "text": [
      "executing: jupyter nbconvert --to html app.ipynb\n",
      "[NbConvertApp] Converting notebook app.ipynb to html\n",
      "[NbConvertApp] Writing 578440 bytes to app.html\n",
      "executing: jupyter nbconvert --to html cnn_from_scratch.ipynb\n",
      "[NbConvertApp] Converting notebook cnn_from_scratch.ipynb to html\n",
      "Traceback (most recent call last):\n",
      "  File \"/home/xye/anaconda3/envs/udacity/bin/jupyter-nbconvert\", line 8, in <module>\n",
      "    sys.exit(main())\n",
      "  File \"/home/xye/anaconda3/envs/udacity/lib/python3.7/site-packages/jupyter_core/application.py\", line 269, in launch_instance\n",
      "    return super().launch_instance(argv=argv, **kwargs)\n",
      "  File \"/home/xye/anaconda3/envs/udacity/lib/python3.7/site-packages/traitlets/config/application.py\", line 1043, in launch_instance\n",
      "    app.start()\n",
      "  File \"/home/xye/anaconda3/envs/udacity/lib/python3.7/site-packages/nbconvert/nbconvertapp.py\", line 414, in start\n",
      "    self.convert_notebooks()\n",
      "  File \"/home/xye/anaconda3/envs/udacity/lib/python3.7/site-packages/nbconvert/nbconvertapp.py\", line 603, in convert_notebooks\n",
      "    self.convert_single_notebook(notebook_filename)\n",
      "  File \"/home/xye/anaconda3/envs/udacity/lib/python3.7/site-packages/nbconvert/nbconvertapp.py\", line 558, in convert_single_notebook\n",
      "    notebook_filename, resources, input_buffer=input_buffer\n",
      "  File \"/home/xye/anaconda3/envs/udacity/lib/python3.7/site-packages/nbconvert/nbconvertapp.py\", line 484, in export_single_notebook\n",
      "    notebook_filename, resources=resources\n",
      "  File \"/home/xye/anaconda3/envs/udacity/lib/python3.7/site-packages/nbconvert/exporters/templateexporter.py\", line 385, in from_filename\n",
      "    return super().from_filename(filename, resources, **kw)  # type:ignore\n",
      "  File \"/home/xye/anaconda3/envs/udacity/lib/python3.7/site-packages/nbconvert/exporters/exporter.py\", line 200, in from_filename\n",
      "    return self.from_file(f, resources=resources, **kw)\n",
      "  File \"/home/xye/anaconda3/envs/udacity/lib/python3.7/site-packages/nbconvert/exporters/templateexporter.py\", line 391, in from_file\n",
      "    return super().from_file(file_stream, resources, **kw)  # type:ignore\n",
      "  File \"/home/xye/anaconda3/envs/udacity/lib/python3.7/site-packages/nbconvert/exporters/exporter.py\", line 220, in from_file\n",
      "    nbformat.read(file_stream, as_version=4), resources=resources, **kw\n",
      "  File \"/home/xye/anaconda3/envs/udacity/lib/python3.7/site-packages/nbconvert/exporters/html.py\", line 231, in from_notebook_node\n",
      "    return super().from_notebook_node(nb, resources, **kw)\n",
      "  File \"/home/xye/anaconda3/envs/udacity/lib/python3.7/site-packages/nbconvert/exporters/templateexporter.py\", line 423, in from_notebook_node\n",
      "    output = self.template.render(nb=nb_copy, resources=resources)\n",
      "  File \"/home/xye/anaconda3/envs/udacity/lib/python3.7/site-packages/jinja2/environment.py\", line 1301, in render\n",
      "    self.environment.handle_exception()\n",
      "  File \"/home/xye/anaconda3/envs/udacity/lib/python3.7/site-packages/jinja2/environment.py\", line 936, in handle_exception\n",
      "    raise rewrite_traceback_stack(source=source)\n",
      "  File \"/home/xye/.local/share/jupyter/nbconvert/templates/lab/index.html.j2\", line 3, in top-level template code\n",
      "    {% from 'jupyter_widgets.html.j2' import jupyter_widgets %}\n",
      "  File \"/home/xye/.local/share/jupyter/nbconvert/templates/lab/base.html.j2\", line 234, in top-level template code\n",
      "    {% set div_id = uuid4() %}\n",
      "  File \"/home/xye/.local/share/jupyter/nbconvert/templates/base/display_priority.j2\", line 1, in top-level template code\n",
      "    {%- extends 'base/null.j2' -%}\n",
      "  File \"/home/xye/.local/share/jupyter/nbconvert/templates/base/null.j2\", line 26, in top-level template code\n",
      "    {%- block body -%}\n",
      "  File \"/home/xye/.local/share/jupyter/nbconvert/templates/base/null.j2\", line 29, in block 'body'\n",
      "    {%- block body_loop -%}\n",
      "  File \"/home/xye/.local/share/jupyter/nbconvert/templates/base/null.j2\", line 31, in block 'body_loop'\n",
      "    {%- block any_cell scoped -%}\n",
      "  File \"/home/xye/.local/share/jupyter/nbconvert/templates/base/null.j2\", line 87, in block 'any_cell'\n",
      "    {%- block markdowncell scoped-%} {%- endblock markdowncell -%}\n",
      "  File \"/home/xye/.local/share/jupyter/nbconvert/templates/lab/base.html.j2\", line 93, in block 'markdowncell'\n",
      "    {{ cell.source  | markdown2html | strip_files_prefix }}\n",
      "  File \"/home/xye/anaconda3/envs/udacity/lib/python3.7/site-packages/nbconvert/exporters/html.py\", line 208, in markdown2html\n",
      "    return MarkdownWithMath(renderer=renderer).render(source)\n",
      "  File \"/home/xye/anaconda3/envs/udacity/lib/python3.7/site-packages/nbconvert/filters/markdown_mistune.py\", line 148, in render\n",
      "    return self.parse(s)\n",
      "  File \"/home/xye/anaconda3/envs/udacity/lib/python3.7/site-packages/mistune/markdown.py\", line 50, in parse\n",
      "    result = self.block.render(tokens, self.inline, state)\n",
      "  File \"/home/xye/anaconda3/envs/udacity/lib/python3.7/site-packages/mistune/block_parser.py\", line 274, in render\n",
      "    return inline.renderer.finalize(data)\n",
      "  File \"/home/xye/anaconda3/envs/udacity/lib/python3.7/site-packages/mistune/renderers.py\", line 220, in finalize\n",
      "    return ''.join(data)\n",
      "  File \"/home/xye/anaconda3/envs/udacity/lib/python3.7/site-packages/mistune/block_parser.py\", line 284, in _iter_render\n",
      "    children = self.render(tok['children'], inline, state)\n",
      "  File \"/home/xye/anaconda3/envs/udacity/lib/python3.7/site-packages/mistune/block_parser.py\", line 274, in render\n",
      "    return inline.renderer.finalize(data)\n",
      "  File \"/home/xye/anaconda3/envs/udacity/lib/python3.7/site-packages/mistune/renderers.py\", line 220, in finalize\n",
      "    return ''.join(data)\n",
      "  File \"/home/xye/anaconda3/envs/udacity/lib/python3.7/site-packages/mistune/block_parser.py\", line 291, in _iter_render\n",
      "    yield method(children, *params)\n",
      "  File \"/home/xye/anaconda3/envs/udacity/lib/python3.7/site-packages/nbconvert/filters/markdown_mistune.py\", line 181, in block_code\n",
      "    lang = info.strip().split(None, 1)[0]\n",
      "IndexError: list index out of range\n",
      "Traceback (most recent call last):\n",
      "  File \"src/create_submit_pkg.py\", line 40, in <module>\n",
      "    create_submit_pkg()\n",
      "  File \"src/create_submit_pkg.py\", line 20, in create_submit_pkg\n",
      "    subprocess.check_call(cmd_line, shell=True)\n",
      "  File \"/home/xye/anaconda3/envs/udacity/lib/python3.7/subprocess.py\", line 363, in check_call\n",
      "    raise CalledProcessError(retcode, cmd)\n",
      "subprocess.CalledProcessError: Command 'jupyter nbconvert --to html cnn_from_scratch.ipynb' returned non-zero exit status 1.\n"
     ]
    }
   ],
   "source": [
    "!python src/create_submit_pkg.py"
   ]
  },
  {
   "cell_type": "code",
   "execution_count": null,
   "id": "5948d9a3",
   "metadata": {},
   "outputs": [],
   "source": []
  },
  {
   "cell_type": "code",
   "execution_count": null,
   "id": "3f5ea171-ac37-4e24-87af-851a9d35c20d",
   "metadata": {},
   "outputs": [],
   "source": []
  },
  {
   "cell_type": "code",
   "execution_count": null,
   "id": "f5ac6231-39b3-4ad7-9cce-ced9c930ab81",
   "metadata": {},
   "outputs": [],
   "source": []
  },
  {
   "cell_type": "code",
   "execution_count": null,
   "id": "d31b3ac0-120d-45f7-aa22-82de6cfd22c5",
   "metadata": {},
   "outputs": [],
   "source": []
  },
  {
   "cell_type": "code",
   "execution_count": null,
   "id": "ecf0b41c-4213-4ac0-a8c6-802aa67027fa",
   "metadata": {},
   "outputs": [],
   "source": []
  },
  {
   "cell_type": "code",
   "execution_count": null,
   "id": "8ae9f378-2056-47c5-a414-423f324c8224",
   "metadata": {},
   "outputs": [],
   "source": []
  }
 ],
 "metadata": {
  "kernelspec": {
   "display_name": "Python 3 (ipykernel)",
   "language": "python",
   "name": "python3"
  },
  "language_info": {
   "codemirror_mode": {
    "name": "ipython",
    "version": 3
   },
   "file_extension": ".py",
   "mimetype": "text/x-python",
   "name": "python",
   "nbconvert_exporter": "python",
   "pygments_lexer": "ipython3",
   "version": "3.7.6"
  },
  "widgets": {
   "application/vnd.jupyter.widget-state+json": {
    "state": {},
    "version_major": 2,
    "version_minor": 0
   }
  }
 },
 "nbformat": 4,
 "nbformat_minor": 5
}
